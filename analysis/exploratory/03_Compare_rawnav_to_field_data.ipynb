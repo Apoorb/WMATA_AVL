{
 "cells": [
  {
   "cell_type": "code",
   "execution_count": 2,
   "metadata": {
    "ExecuteTime": {
     "end_time": "2020-07-20T01:07:53.983002Z",
     "start_time": "2020-07-20T01:07:53.916179Z"
    },
    "hide_input": true,
    "scrolled": true
   },
   "outputs": [
    {
     "data": {
      "text/html": [
       "<style>\n",
       "table {float:left}\n",
       "</style>\n"
      ],
      "text/plain": [
       "<IPython.core.display.HTML object>"
      ]
     },
     "metadata": {},
     "output_type": "display_data"
    }
   ],
   "source": [
    "%%html\n",
    "<style>\n",
    "table {float:left}\n",
    "</style>"
   ]
  },
  {
   "cell_type": "markdown",
   "metadata": {},
   "source": [
    "# 03 Compare rawnav data to the field data\n",
    "\n",
    "This notebook provides a comparison between the rawnav data and the field data for validating the rawnav data and the `wamatarawnav` package developed for the WMATA Analysis of Fine-Grained Bus AVL to Evaluate Queue Jump Effectiveness study (Queue Jump Effectiveness study). Refer to *Introduction to parsing rawnav data with `wmatarawnav`* and *02 - Relating rawnav data to other data sources with `wmatarawnav`* for a basic overview of the `wmatarawnav` package. \n",
    "\n",
    "The field data was collected for the following queue jump locations on $7^{th}$, $8^{th}$, $9^{th}$, $14^{th}$, $15^{th}$, and $16^{th}$ July during the morning and evening peak hours:\n",
    "* 16th and U\n",
    "* Georgia & Columbia\n",
    "* Georgia & Irving\n",
    "* Georgia & Piney Branch\n",
    "* 11th & NY\n",
    "* Irving & 16th\n",
    "\n",
    "\n",
    "\n"
   ]
  },
  {
   "cell_type": "markdown",
   "metadata": {
    "toc": true
   },
   "source": [
    "<h1>Table of Contents<span class=\"tocSkip\"></span></h1>\n",
    "<div class=\"toc\"><ul class=\"toc-item\"><li><span><a href=\"#Field-data\" data-toc-modified-id=\"Field-data-1\"><span class=\"toc-item-num\">1&nbsp;&nbsp;</span>Field data</a></span></li><li><span><a href=\"#Rawnav-data\" data-toc-modified-id=\"Rawnav-data-2\"><span class=\"toc-item-num\">2&nbsp;&nbsp;</span>Rawnav data</a></span></li><li><span><a href=\"#Comparision-between-rawnav-and-field-data\" data-toc-modified-id=\"Comparision-between-rawnav-and-field-data-3\"><span class=\"toc-item-num\">3&nbsp;&nbsp;</span>Comparision between rawnav and field data</a></span><ul class=\"toc-item\"><li><span><a href=\"#High-level-comparision\" data-toc-modified-id=\"High-level-comparision-3.1\"><span class=\"toc-item-num\">3.1&nbsp;&nbsp;</span>High-level comparision</a></span></li><li><span><a href=\"#Summary-measure-comparision\" data-toc-modified-id=\"Summary-measure-comparision-3.2\"><span class=\"toc-item-num\">3.2&nbsp;&nbsp;</span>Summary measure comparision</a></span></li><li><span><a href=\"#Trajectory-variation-when-bus-stops,-bus-doesn't-stop,-bus-uses-queue-jump\" data-toc-modified-id=\"Trajectory-variation-when-bus-stops,-bus-doesn't-stop,-bus-uses-queue-jump-3.3\"><span class=\"toc-item-num\">3.3&nbsp;&nbsp;</span>Trajectory variation when bus stops, bus doesn't stop, bus uses queue jump</a></span></li></ul></li><li><span><a href=\"#Conclusion\" data-toc-modified-id=\"Conclusion-4\"><span class=\"toc-item-num\">4&nbsp;&nbsp;</span>Conclusion</a></span></li></ul></div>"
   ]
  },
  {
   "cell_type": "markdown",
   "metadata": {},
   "source": [
    "## Field data\n",
    "\n",
    "Following table shows the data collection schedule for different queue jump locations. \n",
    "\n",
    "|Queue Jump Location   |Date (Day of week)                |Time of Day  |Bus Routes                       |Direction\n",
    "|:--------------------:|:--------------------------------:|:-----------:|:-------------------------------:|:-------:|\n",
    "|16th & U              |7/7/2020 (Tue) and 7/14/2020 (Tue)|4 PM to 6 PM |S1, S2, S4, and S9            |Northbound\n",
    "|Georgia & Columbia    |7/7/2020 (Tue) and 7/14/2020 (Tue)|7 AM to 9 AM |70 and 79                        |Southbound\n",
    "|Georgia & Irving      |7/8/2020 (Wed) and 7/15/2020 (Wed)|7 AM to 9 AM |70                               |Southbound\n",
    "|Georgia & Piney Branch|7/9/2020 (Thu) and 7/16/2020 (Thu)|7 AM to 9 AM |70 and 79                        |Southbound\n",
    "|11th & NY             |7/8/2020 (Wed) and 7/15/2020 (Wed)|4 PM to 6 PM |64 and G8                        |Northbound\n",
    "|Irving & 16th         |7/9/2020 (Thu) and 7/16/2020 (Thu)|4 PM to 6 PM |D32, H1, H2, H3,<br>H4, H8, and W47 |Eastbound\n"
   ]
  },
  {
   "cell_type": "markdown",
   "metadata": {},
   "source": [
    "## Rawnav data"
   ]
  },
  {
   "cell_type": "markdown",
   "metadata": {},
   "source": [
    "## Comparision between rawnav and field data\n",
    "\n",
    "\n",
    "### High-level comparision\n",
    "\n",
    "\n",
    "### Summary measure comparision\n",
    "\n",
    "\n",
    "### Trajectory variation when bus stops, bus doesn't stop, bus uses queue jump"
   ]
  },
  {
   "cell_type": "markdown",
   "metadata": {},
   "source": [
    "## Conclusion"
   ]
  },
  {
   "cell_type": "code",
   "execution_count": null,
   "metadata": {},
   "outputs": [],
   "source": []
  }
 ],
 "metadata": {
  "kernelspec": {
   "display_name": "Python 3",
   "language": "python",
   "name": "python3"
  },
  "language_info": {
   "codemirror_mode": {
    "name": "ipython",
    "version": 3
   },
   "file_extension": ".py",
   "mimetype": "text/x-python",
   "name": "python",
   "nbconvert_exporter": "python",
   "pygments_lexer": "ipython3",
   "version": "3.7.7"
  },
  "toc": {
   "base_numbering": 1,
   "nav_menu": {},
   "number_sections": true,
   "sideBar": true,
   "skip_h1_title": true,
   "title_cell": "Table of Contents",
   "title_sidebar": "Contents",
   "toc_cell": true,
   "toc_position": {},
   "toc_section_display": true,
   "toc_window_display": true
  },
  "varInspector": {
   "cols": {
    "lenName": 16,
    "lenType": 16,
    "lenVar": 40
   },
   "kernels_config": {
    "python": {
     "delete_cmd_postfix": "",
     "delete_cmd_prefix": "del ",
     "library": "var_list.py",
     "varRefreshCmd": "print(var_dic_list())"
    },
    "r": {
     "delete_cmd_postfix": ") ",
     "delete_cmd_prefix": "rm(",
     "library": "var_list.r",
     "varRefreshCmd": "cat(var_dic_list()) "
    }
   },
   "types_to_exclude": [
    "module",
    "function",
    "builtin_function_or_method",
    "instance",
    "_Feature"
   ],
   "window_display": false
  }
 },
 "nbformat": 4,
 "nbformat_minor": 4
}
